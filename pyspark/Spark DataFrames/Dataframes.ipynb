{
 "cells": [
  {
   "cell_type": "markdown",
   "metadata": {},
   "source": [
    "The purpose of this notebook is to demonstrate a basic understanding of the use of PySpark dataframes."
   ]
  },
  {
   "cell_type": "code",
   "execution_count": 1,
   "metadata": {},
   "outputs": [
    {
     "name": "stderr",
     "output_type": "stream",
     "text": [
      "/home/markc/Desktop/PythonProjects/NaturalLanguageProcessing/lib/python3.10/site-packages/pyspark/pandas/__init__.py:50: UserWarning: 'PYARROW_IGNORE_TIMEZONE' environment variable was not set. It is required to set this environment variable to '1' in both driver and executor sides if you use pyarrow>=2.0.0. pandas-on-Spark will set it for you but it does not work if there is a Spark context already launched.\n",
      "  warnings.warn(\n"
     ]
    }
   ],
   "source": [
    "from pyspark.sql import SparkSession \n",
    "import pyspark.sql.functions as F\n",
    "import pyspark.sql.types as T\n",
    "import pyspark.sql.window as W\n",
    "import pyspark.pandas as ps\n",
    "\n",
    "import pandas as pd\n",
    "import numpy as np"
   ]
  },
  {
   "cell_type": "code",
   "execution_count": 2,
   "metadata": {},
   "outputs": [
    {
     "name": "stderr",
     "output_type": "stream",
     "text": [
      "Setting default log level to \"WARN\".\n",
      "To adjust logging level use sc.setLogLevel(newLevel). For SparkR, use setLogLevel(newLevel).\n",
      "24/06/08 19:01:11 WARN Utils: Service 'SparkUI' could not bind on port 4040. Attempting port 4041.\n"
     ]
    }
   ],
   "source": [
    "spark = SparkSession.builder.master('local[*]').config(\"spark.driver.memory\",'15g')\\\n",
    "    .config('spark.ui.showConsoleProgress','false').appName(\"example\").getOrCreate()\n"
   ]
  },
  {
   "cell_type": "code",
   "execution_count": 3,
   "metadata": {},
   "outputs": [],
   "source": [
    "df = spark.read.csv(\"./vaers_jan_nov_2021.csv\", header=True, inferSchema=True, sep=',', quote='\"', escape='\"')"
   ]
  },
  {
   "cell_type": "code",
   "execution_count": 4,
   "metadata": {},
   "outputs": [
    {
     "data": {
      "text/plain": [
       "['VAERS_ID',\n",
       " 'SYMPTOM1',\n",
       " 'SYMPTOMVERSION1',\n",
       " 'SYMPTOM2',\n",
       " 'SYMPTOMVERSION2',\n",
       " 'SYMPTOM3',\n",
       " 'SYMPTOMVERSION3',\n",
       " 'SYMPTOM4',\n",
       " 'SYMPTOMVERSION4',\n",
       " 'SYMPTOM5',\n",
       " 'SYMPTOMVERSION5',\n",
       " 'VAX_TYPE',\n",
       " 'VAX_MANU',\n",
       " 'VAX_LOT',\n",
       " 'VAX_DOSE_SERIES',\n",
       " 'VAX_ROUTE',\n",
       " 'VAX_SITE',\n",
       " 'VAX_NAME',\n",
       " 'RECVDATE',\n",
       " 'STATE',\n",
       " 'AGE_YRS',\n",
       " 'CAGE_YR',\n",
       " 'CAGE_MO',\n",
       " 'SEX',\n",
       " 'RPT_DATE',\n",
       " 'SYMPTOM_TEXT',\n",
       " 'DIED',\n",
       " 'DATEDIED',\n",
       " 'L_THREAT',\n",
       " 'ER_VISIT',\n",
       " 'HOSPITAL',\n",
       " 'HOSPDAYS',\n",
       " 'X_STAY',\n",
       " 'DISABLE',\n",
       " 'RECOVD',\n",
       " 'VAX_DATE',\n",
       " 'ONSET_DATE',\n",
       " 'NUMDAYS',\n",
       " 'LAB_DATA',\n",
       " 'V_ADMINBY',\n",
       " 'V_FUNDBY',\n",
       " 'OTHER_MEDS',\n",
       " 'CUR_ILL',\n",
       " 'HISTORY',\n",
       " 'PRIOR_VAX',\n",
       " 'SPLTTYPE',\n",
       " 'FORM_VERS',\n",
       " 'TODAYS_DATE',\n",
       " 'BIRTH_DEFECT',\n",
       " 'OFC_VISIT',\n",
       " 'ER_ED_VISIT',\n",
       " 'ALLERGIES']"
      ]
     },
     "execution_count": 4,
     "metadata": {},
     "output_type": "execute_result"
    }
   ],
   "source": [
    "df.columns"
   ]
  },
  {
   "cell_type": "code",
   "execution_count": 5,
   "metadata": {},
   "outputs": [
    {
     "data": {
      "text/plain": [
       "[('VAERS_ID', 'int'),\n",
       " ('SYMPTOM1', 'string'),\n",
       " ('SYMPTOMVERSION1', 'double'),\n",
       " ('SYMPTOM2', 'string'),\n",
       " ('SYMPTOMVERSION2', 'double'),\n",
       " ('SYMPTOM3', 'string'),\n",
       " ('SYMPTOMVERSION3', 'double'),\n",
       " ('SYMPTOM4', 'string'),\n",
       " ('SYMPTOMVERSION4', 'double'),\n",
       " ('SYMPTOM5', 'string'),\n",
       " ('SYMPTOMVERSION5', 'double'),\n",
       " ('VAX_TYPE', 'string'),\n",
       " ('VAX_MANU', 'string'),\n",
       " ('VAX_LOT', 'string'),\n",
       " ('VAX_DOSE_SERIES', 'string'),\n",
       " ('VAX_ROUTE', 'string'),\n",
       " ('VAX_SITE', 'string'),\n",
       " ('VAX_NAME', 'string'),\n",
       " ('RECVDATE', 'string'),\n",
       " ('STATE', 'string'),\n",
       " ('AGE_YRS', 'double'),\n",
       " ('CAGE_YR', 'double'),\n",
       " ('CAGE_MO', 'double'),\n",
       " ('SEX', 'string'),\n",
       " ('RPT_DATE', 'string'),\n",
       " ('SYMPTOM_TEXT', 'string'),\n",
       " ('DIED', 'string'),\n",
       " ('DATEDIED', 'string'),\n",
       " ('L_THREAT', 'string'),\n",
       " ('ER_VISIT', 'string'),\n",
       " ('HOSPITAL', 'string'),\n",
       " ('HOSPDAYS', 'double'),\n",
       " ('X_STAY', 'string'),\n",
       " ('DISABLE', 'string'),\n",
       " ('RECOVD', 'string'),\n",
       " ('VAX_DATE', 'string'),\n",
       " ('ONSET_DATE', 'string'),\n",
       " ('NUMDAYS', 'double'),\n",
       " ('LAB_DATA', 'string'),\n",
       " ('V_ADMINBY', 'string'),\n",
       " ('V_FUNDBY', 'string'),\n",
       " ('OTHER_MEDS', 'string'),\n",
       " ('CUR_ILL', 'string'),\n",
       " ('HISTORY', 'string'),\n",
       " ('PRIOR_VAX', 'string'),\n",
       " ('SPLTTYPE', 'string'),\n",
       " ('FORM_VERS', 'int'),\n",
       " ('TODAYS_DATE', 'string'),\n",
       " ('BIRTH_DEFECT', 'string'),\n",
       " ('OFC_VISIT', 'string'),\n",
       " ('ER_ED_VISIT', 'string'),\n",
       " ('ALLERGIES', 'string')]"
      ]
     },
     "execution_count": 5,
     "metadata": {},
     "output_type": "execute_result"
    }
   ],
   "source": [
    "df.dtypes"
   ]
  },
  {
   "cell_type": "code",
   "execution_count": 6,
   "metadata": {},
   "outputs": [
    {
     "name": "stderr",
     "output_type": "stream",
     "text": [
      "24/06/08 19:01:17 WARN SparkStringUtils: Truncated the string representation of a plan since it was too large. This behavior can be adjusted by setting 'spark.sql.debug.maxToStringFields'.\n"
     ]
    },
    {
     "data": {
      "text/html": [
       "<div>\n",
       "<style scoped>\n",
       "    .dataframe tbody tr th:only-of-type {\n",
       "        vertical-align: middle;\n",
       "    }\n",
       "\n",
       "    .dataframe tbody tr th {\n",
       "        vertical-align: top;\n",
       "    }\n",
       "\n",
       "    .dataframe thead th {\n",
       "        text-align: right;\n",
       "    }\n",
       "</style>\n",
       "<table border=\"1\" class=\"dataframe\">\n",
       "  <thead>\n",
       "    <tr style=\"text-align: right;\">\n",
       "      <th></th>\n",
       "      <th>VAERS_ID</th>\n",
       "      <th>SYMPTOM1</th>\n",
       "      <th>SYMPTOMVERSION1</th>\n",
       "      <th>SYMPTOM2</th>\n",
       "      <th>SYMPTOMVERSION2</th>\n",
       "      <th>SYMPTOM3</th>\n",
       "      <th>SYMPTOMVERSION3</th>\n",
       "      <th>SYMPTOM4</th>\n",
       "      <th>SYMPTOMVERSION4</th>\n",
       "      <th>SYMPTOM5</th>\n",
       "      <th>...</th>\n",
       "      <th>CUR_ILL</th>\n",
       "      <th>HISTORY</th>\n",
       "      <th>PRIOR_VAX</th>\n",
       "      <th>SPLTTYPE</th>\n",
       "      <th>FORM_VERS</th>\n",
       "      <th>TODAYS_DATE</th>\n",
       "      <th>BIRTH_DEFECT</th>\n",
       "      <th>OFC_VISIT</th>\n",
       "      <th>ER_ED_VISIT</th>\n",
       "      <th>ALLERGIES</th>\n",
       "    </tr>\n",
       "  </thead>\n",
       "  <tbody>\n",
       "    <tr>\n",
       "      <th>0</th>\n",
       "      <td>916600</td>\n",
       "      <td>Dysphagia</td>\n",
       "      <td>23.1</td>\n",
       "      <td>Epiglottitis</td>\n",
       "      <td>23.1</td>\n",
       "      <td>None</td>\n",
       "      <td>NaN</td>\n",
       "      <td>None</td>\n",
       "      <td>NaN</td>\n",
       "      <td>None</td>\n",
       "      <td>...</td>\n",
       "      <td>None</td>\n",
       "      <td>None</td>\n",
       "      <td>None</td>\n",
       "      <td>None</td>\n",
       "      <td>2</td>\n",
       "      <td>01/01/2021</td>\n",
       "      <td>None</td>\n",
       "      <td>Y</td>\n",
       "      <td>None</td>\n",
       "      <td>Pcn and bee venom</td>\n",
       "    </tr>\n",
       "    <tr>\n",
       "      <th>1</th>\n",
       "      <td>916601</td>\n",
       "      <td>Anxiety</td>\n",
       "      <td>23.1</td>\n",
       "      <td>Dyspnoea</td>\n",
       "      <td>23.1</td>\n",
       "      <td>None</td>\n",
       "      <td>NaN</td>\n",
       "      <td>None</td>\n",
       "      <td>NaN</td>\n",
       "      <td>None</td>\n",
       "      <td>...</td>\n",
       "      <td>Patient residing at nursing facility. See pati...</td>\n",
       "      <td>Patient residing at nursing facility. See pati...</td>\n",
       "      <td>None</td>\n",
       "      <td>None</td>\n",
       "      <td>2</td>\n",
       "      <td>01/01/2021</td>\n",
       "      <td>None</td>\n",
       "      <td>Y</td>\n",
       "      <td>None</td>\n",
       "      <td>\"Dairy\"</td>\n",
       "    </tr>\n",
       "    <tr>\n",
       "      <th>2</th>\n",
       "      <td>916602</td>\n",
       "      <td>Chest discomfort</td>\n",
       "      <td>23.1</td>\n",
       "      <td>Dysphagia</td>\n",
       "      <td>23.1</td>\n",
       "      <td>Pain in extremity</td>\n",
       "      <td>23.1</td>\n",
       "      <td>Visual impairment</td>\n",
       "      <td>23.1</td>\n",
       "      <td>None</td>\n",
       "      <td>...</td>\n",
       "      <td>None</td>\n",
       "      <td>None</td>\n",
       "      <td>None</td>\n",
       "      <td>None</td>\n",
       "      <td>2</td>\n",
       "      <td>01/01/2021</td>\n",
       "      <td>None</td>\n",
       "      <td>None</td>\n",
       "      <td>Y</td>\n",
       "      <td>Shellfish</td>\n",
       "    </tr>\n",
       "    <tr>\n",
       "      <th>3</th>\n",
       "      <td>916603</td>\n",
       "      <td>Dizziness</td>\n",
       "      <td>23.1</td>\n",
       "      <td>Fatigue</td>\n",
       "      <td>23.1</td>\n",
       "      <td>Mobility decreased</td>\n",
       "      <td>23.1</td>\n",
       "      <td>None</td>\n",
       "      <td>NaN</td>\n",
       "      <td>None</td>\n",
       "      <td>...</td>\n",
       "      <td>kidney infection</td>\n",
       "      <td>diverticulitis, mitral valve prolapse, osteoar...</td>\n",
       "      <td>got measles from measel shot, mums from mumps ...</td>\n",
       "      <td>None</td>\n",
       "      <td>2</td>\n",
       "      <td>01/01/2021</td>\n",
       "      <td>None</td>\n",
       "      <td>None</td>\n",
       "      <td>None</td>\n",
       "      <td>Diclofenac, novacaine, lidocaine, pickles, tom...</td>\n",
       "    </tr>\n",
       "    <tr>\n",
       "      <th>4</th>\n",
       "      <td>916604</td>\n",
       "      <td>Injection site erythema</td>\n",
       "      <td>23.1</td>\n",
       "      <td>Injection site pruritus</td>\n",
       "      <td>23.1</td>\n",
       "      <td>Injection site swelling</td>\n",
       "      <td>23.1</td>\n",
       "      <td>Injection site warmth</td>\n",
       "      <td>23.1</td>\n",
       "      <td>None</td>\n",
       "      <td>...</td>\n",
       "      <td>Na</td>\n",
       "      <td>None</td>\n",
       "      <td>None</td>\n",
       "      <td>None</td>\n",
       "      <td>2</td>\n",
       "      <td>01/01/2021</td>\n",
       "      <td>None</td>\n",
       "      <td>None</td>\n",
       "      <td>None</td>\n",
       "      <td>Na</td>\n",
       "    </tr>\n",
       "  </tbody>\n",
       "</table>\n",
       "<p>5 rows × 52 columns</p>\n",
       "</div>"
      ],
      "text/plain": [
       "   VAERS_ID                 SYMPTOM1  SYMPTOMVERSION1  \\\n",
       "0    916600                Dysphagia             23.1   \n",
       "1    916601                  Anxiety             23.1   \n",
       "2    916602         Chest discomfort             23.1   \n",
       "3    916603                Dizziness             23.1   \n",
       "4    916604  Injection site erythema             23.1   \n",
       "\n",
       "                  SYMPTOM2  SYMPTOMVERSION2                 SYMPTOM3  \\\n",
       "0             Epiglottitis             23.1                     None   \n",
       "1                 Dyspnoea             23.1                     None   \n",
       "2                Dysphagia             23.1        Pain in extremity   \n",
       "3                  Fatigue             23.1       Mobility decreased   \n",
       "4  Injection site pruritus             23.1  Injection site swelling   \n",
       "\n",
       "   SYMPTOMVERSION3               SYMPTOM4  SYMPTOMVERSION4 SYMPTOM5  ...  \\\n",
       "0              NaN                   None              NaN     None  ...   \n",
       "1              NaN                   None              NaN     None  ...   \n",
       "2             23.1      Visual impairment             23.1     None  ...   \n",
       "3             23.1                   None              NaN     None  ...   \n",
       "4             23.1  Injection site warmth             23.1     None  ...   \n",
       "\n",
       "                                             CUR_ILL  \\\n",
       "0                                               None   \n",
       "1  Patient residing at nursing facility. See pati...   \n",
       "2                                               None   \n",
       "3                                   kidney infection   \n",
       "4                                                 Na   \n",
       "\n",
       "                                             HISTORY  \\\n",
       "0                                               None   \n",
       "1  Patient residing at nursing facility. See pati...   \n",
       "2                                               None   \n",
       "3  diverticulitis, mitral valve prolapse, osteoar...   \n",
       "4                                               None   \n",
       "\n",
       "                                           PRIOR_VAX SPLTTYPE FORM_VERS  \\\n",
       "0                                               None     None         2   \n",
       "1                                               None     None         2   \n",
       "2                                               None     None         2   \n",
       "3  got measles from measel shot, mums from mumps ...     None         2   \n",
       "4                                               None     None         2   \n",
       "\n",
       "  TODAYS_DATE BIRTH_DEFECT OFC_VISIT ER_ED_VISIT  \\\n",
       "0  01/01/2021         None         Y        None   \n",
       "1  01/01/2021         None         Y        None   \n",
       "2  01/01/2021         None      None           Y   \n",
       "3  01/01/2021         None      None        None   \n",
       "4  01/01/2021         None      None        None   \n",
       "\n",
       "                                           ALLERGIES  \n",
       "0                                  Pcn and bee venom  \n",
       "1                                            \"Dairy\"  \n",
       "2                                          Shellfish  \n",
       "3  Diclofenac, novacaine, lidocaine, pickles, tom...  \n",
       "4                                                 Na  \n",
       "\n",
       "[5 rows x 52 columns]"
      ]
     },
     "execution_count": 6,
     "metadata": {},
     "output_type": "execute_result"
    }
   ],
   "source": [
    "df.limit(5).toPandas()"
   ]
  },
  {
   "cell_type": "markdown",
   "metadata": {},
   "source": [
    "As we can see, each SYMPTOMVERSION column should have likely been a string. Let's make that conversion now"
   ]
  },
  {
   "cell_type": "code",
   "execution_count": 7,
   "metadata": {},
   "outputs": [],
   "source": [
    "df = df.withColumn(\"SYMPTOMVERSION1\", df.SYMPTOMVERSION1.cast(T.StringType())).\\\n",
    "withColumn(\"SYMPTOMVERSION2\", df.SYMPTOMVERSION2.cast('string')).\\\n",
    "withColumn(\"SYMPTOMVERSION3\", df.SYMPTOMVERSION3.cast('string')).\\\n",
    "withColumn(\"SYMPTOMVERSION4\", df.SYMPTOMVERSION4.cast('string')).\\\n",
    "withColumn(\"SYMPTOMVERSION5\", df.SYMPTOMVERSION5.cast('string'))"
   ]
  },
  {
   "cell_type": "code",
   "execution_count": 8,
   "metadata": {},
   "outputs": [
    {
     "data": {
      "text/plain": [
       "[('VAERS_ID', 'int'),\n",
       " ('SYMPTOM1', 'string'),\n",
       " ('SYMPTOMVERSION1', 'string'),\n",
       " ('SYMPTOM2', 'string'),\n",
       " ('SYMPTOMVERSION2', 'string'),\n",
       " ('SYMPTOM3', 'string'),\n",
       " ('SYMPTOMVERSION3', 'string'),\n",
       " ('SYMPTOM4', 'string'),\n",
       " ('SYMPTOMVERSION4', 'string'),\n",
       " ('SYMPTOM5', 'string'),\n",
       " ('SYMPTOMVERSION5', 'string'),\n",
       " ('VAX_TYPE', 'string'),\n",
       " ('VAX_MANU', 'string'),\n",
       " ('VAX_LOT', 'string'),\n",
       " ('VAX_DOSE_SERIES', 'string'),\n",
       " ('VAX_ROUTE', 'string'),\n",
       " ('VAX_SITE', 'string'),\n",
       " ('VAX_NAME', 'string'),\n",
       " ('RECVDATE', 'string'),\n",
       " ('STATE', 'string'),\n",
       " ('AGE_YRS', 'double'),\n",
       " ('CAGE_YR', 'double'),\n",
       " ('CAGE_MO', 'double'),\n",
       " ('SEX', 'string'),\n",
       " ('RPT_DATE', 'string'),\n",
       " ('SYMPTOM_TEXT', 'string'),\n",
       " ('DIED', 'string'),\n",
       " ('DATEDIED', 'string'),\n",
       " ('L_THREAT', 'string'),\n",
       " ('ER_VISIT', 'string'),\n",
       " ('HOSPITAL', 'string'),\n",
       " ('HOSPDAYS', 'double'),\n",
       " ('X_STAY', 'string'),\n",
       " ('DISABLE', 'string'),\n",
       " ('RECOVD', 'string'),\n",
       " ('VAX_DATE', 'string'),\n",
       " ('ONSET_DATE', 'string'),\n",
       " ('NUMDAYS', 'double'),\n",
       " ('LAB_DATA', 'string'),\n",
       " ('V_ADMINBY', 'string'),\n",
       " ('V_FUNDBY', 'string'),\n",
       " ('OTHER_MEDS', 'string'),\n",
       " ('CUR_ILL', 'string'),\n",
       " ('HISTORY', 'string'),\n",
       " ('PRIOR_VAX', 'string'),\n",
       " ('SPLTTYPE', 'string'),\n",
       " ('FORM_VERS', 'int'),\n",
       " ('TODAYS_DATE', 'string'),\n",
       " ('BIRTH_DEFECT', 'string'),\n",
       " ('OFC_VISIT', 'string'),\n",
       " ('ER_ED_VISIT', 'string'),\n",
       " ('ALLERGIES', 'string')]"
      ]
     },
     "execution_count": 8,
     "metadata": {},
     "output_type": "execute_result"
    }
   ],
   "source": [
    "df.dtypes"
   ]
  },
  {
   "cell_type": "markdown",
   "metadata": {},
   "source": [
    "Now, let's get a summary of numerical columns"
   ]
  },
  {
   "cell_type": "code",
   "execution_count": 9,
   "metadata": {},
   "outputs": [
    {
     "data": {
      "text/plain": [
       "['AGE_YRS', 'CAGE_YR', 'CAGE_MO', 'HOSPDAYS', 'NUMDAYS', 'FORM_VERS']"
      ]
     },
     "execution_count": 9,
     "metadata": {},
     "output_type": "execute_result"
    }
   ],
   "source": [
    "types = df.dtypes\n",
    "sel_types = [t[0] for t in types if (t[1] == 'double' or t[1] == 'int') and t[0] != 'VAERS_ID']\n",
    "sel_types"
   ]
  },
  {
   "cell_type": "code",
   "execution_count": 10,
   "metadata": {},
   "outputs": [
    {
     "name": "stdout",
     "output_type": "stream",
     "text": [
      "+-------+-----------------+------------------+-------------------+------------------+-----------------+-------------------+\n",
      "|summary|          AGE_YRS|           CAGE_YR|            CAGE_MO|          HOSPDAYS|          NUMDAYS|          FORM_VERS|\n",
      "+-------+-----------------+------------------+-------------------+------------------+-----------------+-------------------+\n",
      "|  count|           819268|            728957|               1327|             65176|           799488|             890836|\n",
      "|   mean| 50.0537900174302| 49.76858168588819|0.06156744536548606|21.109119921443476|28.33089802473583| 1.9995891499669973|\n",
      "| stddev|18.57464863940989|18.740088977103554|0.15742062021670353|1238.5330170310406|595.4422481471431|0.02026528302936239|\n",
      "|    min|             0.08|               0.0|                0.0|               1.0|              0.0|                  1|\n",
      "|    25%|             36.0|              35.0|                0.0|               2.0|              0.0|                  2|\n",
      "|    50%|             50.0|              50.0|                0.0|               3.0|              1.0|                  2|\n",
      "|    75%|             65.0|              64.0|                0.0|               6.0|              7.0|                  2|\n",
      "|    max|            119.0|             120.0|                1.0|           99999.0|          44224.0|                  2|\n",
      "+-------+-----------------+------------------+-------------------+------------------+-----------------+-------------------+\n",
      "\n"
     ]
    }
   ],
   "source": [
    "df.select(sel_types).summary().show()"
   ]
  },
  {
   "cell_type": "code",
   "execution_count": 11,
   "metadata": {},
   "outputs": [
    {
     "name": "stdout",
     "output_type": "stream",
     "text": [
      "VAERS_ID :  633063\n",
      "SYMPTOM1 :  7077\n",
      "SYMPTOMVERSION1 :  3\n",
      "SYMPTOM2 :  6753\n",
      "SYMPTOMVERSION2 :  4\n",
      "SYMPTOM3 :  6298\n",
      "SYMPTOMVERSION3 :  4\n",
      "SYMPTOM4 :  5711\n",
      "SYMPTOMVERSION4 :  4\n",
      "SYMPTOM5 :  5283\n",
      "SYMPTOMVERSION5 :  4\n",
      "VAX_TYPE :  1\n",
      "VAX_MANU :  4\n",
      "VAX_LOT :  27032\n",
      "VAX_DOSE_SERIES :  9\n",
      "VAX_ROUTE :  10\n",
      "VAX_SITE :  12\n",
      "VAX_NAME :  4\n",
      "RECVDATE :  309\n",
      "STATE :  65\n",
      "SEX :  3\n",
      "RPT_DATE :  82\n",
      "SYMPTOM_TEXT :  599419\n",
      "DIED :  2\n",
      "DATEDIED :  326\n",
      "L_THREAT :  2\n",
      "ER_VISIT :  2\n",
      "HOSPITAL :  2\n",
      "X_STAY :  2\n",
      "DISABLE :  2\n",
      "RECOVD :  4\n",
      "VAX_DATE :  1200\n",
      "ONSET_DATE :  714\n",
      "LAB_DATA :  143626\n",
      "V_ADMINBY :  9\n",
      "V_FUNDBY :  5\n",
      "OTHER_MEDS :  237179\n",
      "CUR_ILL :  56348\n",
      "HISTORY :  163605\n",
      "PRIOR_VAX :  26716\n",
      "SPLTTYPE :  93557\n",
      "TODAYS_DATE :  366\n",
      "BIRTH_DEFECT :  2\n",
      "OFC_VISIT :  2\n",
      "ER_ED_VISIT :  2\n",
      "ALLERGIES :  108132\n"
     ]
    }
   ],
   "source": [
    "for col in df.columns:\n",
    "    if not col in sel_types:\n",
    "        print(col, ': ', df.select(col).distinct().count())"
   ]
  },
  {
   "cell_type": "code",
   "execution_count": 12,
   "metadata": {},
   "outputs": [
    {
     "name": "stderr",
     "output_type": "stream",
     "text": [
      "/tmp/ipykernel_1062139/946246657.py:1: DtypeWarning: Columns (24,29,32,40,48) have mixed types. Specify dtype option on import or set low_memory=False.\n",
      "  pd_df = pd.read_csv(\"./vaers_jan_nov_2021.csv\")\n"
     ]
    },
    {
     "data": {
      "text/plain": [
       "VAERS_ID           633063\n",
       "SYMPTOM1             7077\n",
       "SYMPTOMVERSION1         3\n",
       "SYMPTOM2             6752\n",
       "SYMPTOMVERSION2         3\n",
       "SYMPTOM3             6297\n",
       "SYMPTOMVERSION3         3\n",
       "SYMPTOM4             5710\n",
       "SYMPTOMVERSION4         3\n",
       "SYMPTOM5             5282\n",
       "SYMPTOMVERSION5         3\n",
       "VAX_TYPE                1\n",
       "VAX_MANU                4\n",
       "VAX_LOT             27030\n",
       "VAX_DOSE_SERIES         8\n",
       "VAX_ROUTE               9\n",
       "VAX_SITE               11\n",
       "VAX_NAME                4\n",
       "RECVDATE              309\n",
       "STATE                  64\n",
       "AGE_YRS               142\n",
       "CAGE_YR               116\n",
       "CAGE_MO                11\n",
       "SEX                     3\n",
       "RPT_DATE               81\n",
       "SYMPTOM_TEXT       599417\n",
       "DIED                    1\n",
       "DATEDIED              325\n",
       "L_THREAT                1\n",
       "ER_VISIT                1\n",
       "HOSPITAL                1\n",
       "HOSPDAYS               99\n",
       "X_STAY                  1\n",
       "DISABLE                 1\n",
       "RECOVD                  3\n",
       "VAX_DATE             1199\n",
       "ONSET_DATE            713\n",
       "NUMDAYS               844\n",
       "LAB_DATA           143624\n",
       "V_ADMINBY               9\n",
       "V_FUNDBY                4\n",
       "OTHER_MEDS         237177\n",
       "CUR_ILL             56346\n",
       "HISTORY            163603\n",
       "PRIOR_VAX           26715\n",
       "SPLTTYPE            93555\n",
       "FORM_VERS               2\n",
       "TODAYS_DATE           365\n",
       "BIRTH_DEFECT            1\n",
       "OFC_VISIT               1\n",
       "ER_ED_VISIT             1\n",
       "ALLERGIES          108130\n",
       "dtype: int64"
      ]
     },
     "execution_count": 12,
     "metadata": {},
     "output_type": "execute_result"
    }
   ],
   "source": [
    "pd_df = pd.read_csv(\"./vaers_jan_nov_2021.csv\")\n",
    "pd_df.nunique()"
   ]
  },
  {
   "cell_type": "code",
   "execution_count": 15,
   "metadata": {},
   "outputs": [
    {
     "data": {
      "text/html": [
       "<div>\n",
       "<style scoped>\n",
       "    .dataframe tbody tr th:only-of-type {\n",
       "        vertical-align: middle;\n",
       "    }\n",
       "\n",
       "    .dataframe tbody tr th {\n",
       "        vertical-align: top;\n",
       "    }\n",
       "\n",
       "    .dataframe thead th {\n",
       "        text-align: right;\n",
       "    }\n",
       "</style>\n",
       "<table border=\"1\" class=\"dataframe\">\n",
       "  <thead>\n",
       "    <tr style=\"text-align: right;\">\n",
       "      <th></th>\n",
       "      <th>AGE_YRS</th>\n",
       "      <th>CAGE_YR</th>\n",
       "      <th>CAGE_MO</th>\n",
       "      <th>HOSPDAYS</th>\n",
       "      <th>NUMDAYS</th>\n",
       "      <th>FORM_VERS</th>\n",
       "    </tr>\n",
       "  </thead>\n",
       "  <tbody>\n",
       "    <tr>\n",
       "      <th>count</th>\n",
       "      <td>819268.000000</td>\n",
       "      <td>728957.000000</td>\n",
       "      <td>1327.000000</td>\n",
       "      <td>65176.000000</td>\n",
       "      <td>799488.000000</td>\n",
       "      <td>890836.000000</td>\n",
       "    </tr>\n",
       "    <tr>\n",
       "      <th>mean</th>\n",
       "      <td>50.053790</td>\n",
       "      <td>49.768582</td>\n",
       "      <td>0.061567</td>\n",
       "      <td>21.109120</td>\n",
       "      <td>28.330898</td>\n",
       "      <td>1.999589</td>\n",
       "    </tr>\n",
       "    <tr>\n",
       "      <th>std</th>\n",
       "      <td>18.574649</td>\n",
       "      <td>18.740089</td>\n",
       "      <td>0.157421</td>\n",
       "      <td>1238.533017</td>\n",
       "      <td>595.442248</td>\n",
       "      <td>0.020265</td>\n",
       "    </tr>\n",
       "    <tr>\n",
       "      <th>min</th>\n",
       "      <td>0.080000</td>\n",
       "      <td>0.000000</td>\n",
       "      <td>0.000000</td>\n",
       "      <td>1.000000</td>\n",
       "      <td>0.000000</td>\n",
       "      <td>1.000000</td>\n",
       "    </tr>\n",
       "    <tr>\n",
       "      <th>25%</th>\n",
       "      <td>36.000000</td>\n",
       "      <td>35.000000</td>\n",
       "      <td>0.000000</td>\n",
       "      <td>2.000000</td>\n",
       "      <td>0.000000</td>\n",
       "      <td>2.000000</td>\n",
       "    </tr>\n",
       "    <tr>\n",
       "      <th>50%</th>\n",
       "      <td>50.000000</td>\n",
       "      <td>50.000000</td>\n",
       "      <td>0.000000</td>\n",
       "      <td>3.000000</td>\n",
       "      <td>1.000000</td>\n",
       "      <td>2.000000</td>\n",
       "    </tr>\n",
       "    <tr>\n",
       "      <th>75%</th>\n",
       "      <td>65.000000</td>\n",
       "      <td>64.000000</td>\n",
       "      <td>0.000000</td>\n",
       "      <td>7.000000</td>\n",
       "      <td>7.000000</td>\n",
       "      <td>2.000000</td>\n",
       "    </tr>\n",
       "    <tr>\n",
       "      <th>max</th>\n",
       "      <td>119.000000</td>\n",
       "      <td>120.000000</td>\n",
       "      <td>1.000000</td>\n",
       "      <td>99999.000000</td>\n",
       "      <td>44224.000000</td>\n",
       "      <td>2.000000</td>\n",
       "    </tr>\n",
       "  </tbody>\n",
       "</table>\n",
       "</div>"
      ],
      "text/plain": [
       "             AGE_YRS        CAGE_YR      CAGE_MO      HOSPDAYS        NUMDAYS  \\\n",
       "count  819268.000000  728957.000000  1327.000000  65176.000000  799488.000000   \n",
       "mean       50.053790      49.768582     0.061567     21.109120      28.330898   \n",
       "std        18.574649      18.740089     0.157421   1238.533017     595.442248   \n",
       "min         0.080000       0.000000     0.000000      1.000000       0.000000   \n",
       "25%        36.000000      35.000000     0.000000      2.000000       0.000000   \n",
       "50%        50.000000      50.000000     0.000000      3.000000       1.000000   \n",
       "75%        65.000000      64.000000     0.000000      7.000000       7.000000   \n",
       "max       119.000000     120.000000     1.000000  99999.000000   44224.000000   \n",
       "\n",
       "           FORM_VERS  \n",
       "count  890836.000000  \n",
       "mean        1.999589  \n",
       "std         0.020265  \n",
       "min         1.000000  \n",
       "25%         2.000000  \n",
       "50%         2.000000  \n",
       "75%         2.000000  \n",
       "max         2.000000  "
      ]
     },
     "execution_count": 15,
     "metadata": {},
     "output_type": "execute_result"
    }
   ],
   "source": [
    "pd_df[[col for col in pd_df.columns if col in sel_types]].describe()"
   ]
  },
  {
   "cell_type": "markdown",
   "metadata": {},
   "source": [
    "What we can see here is that for basic operations, our data is not yet at the scale where the inherent parallelism outweighs the cost of the overhead for spark clusters."
   ]
  },
  {
   "cell_type": "code",
   "execution_count": 16,
   "metadata": {},
   "outputs": [
    {
     "data": {
      "text/plain": [
       "['VAERS_ID', 'SymptomsList']"
      ]
     },
     "execution_count": 16,
     "metadata": {},
     "output_type": "execute_result"
    }
   ],
   "source": [
    "df_symptoms = df.withColumn(\"SymptomsList\", F.array('SYMPTOM1', 'SYMPTOM2', 'SYMPTOM3', 'SYMPTOM4', 'SYMPTOM5')).select('VAERS_ID', 'SymptomsList')\n",
    "df_symptoms = df_symptoms.withColumn(\"SymptomsList\", F.array_compact('SymptomsList'))\n",
    "df_symptoms.columns"
   ]
  },
  {
   "cell_type": "code",
   "execution_count": 17,
   "metadata": {},
   "outputs": [
    {
     "name": "stdout",
     "output_type": "stream",
     "text": [
      "+--------------------+\n",
      "|        SymptomsList|\n",
      "+--------------------+\n",
      "|[Dysphagia, Epigl...|\n",
      "| [Anxiety, Dyspnoea]|\n",
      "|[Chest discomfort...|\n",
      "|[Dizziness, Fatig...|\n",
      "|[Injection site e...|\n",
      "+--------------------+\n",
      "only showing top 5 rows\n",
      "\n"
     ]
    }
   ],
   "source": [
    "df_symptoms.select('SymptomsList').show(5)"
   ]
  },
  {
   "cell_type": "code",
   "execution_count": 18,
   "metadata": {},
   "outputs": [],
   "source": [
    "import itertools\n",
    "from pyspark.sql.functions import pandas_udf, udf\n",
    "\n",
    "@udf(returnType=T.ArrayType(T.ArrayType(T.StringType())))\n",
    "def permutations(x:list) -> list:\n",
    "    return list(itertools.permutations(x, 2))\n",
    "\n",
    "df_symptoms = df_symptoms.withColumn(\"SymptomsPermutations\", permutations(df_symptoms.SymptomsList)).select('VAERS_ID', 'SymptomsPermutations')\n",
    "df_symptoms = df_symptoms.withColumn(\"SymptomsPermutations\", F.explode('SymptomsPermutations')).select('VAERS_ID', 'SymptomsPermutations')"
   ]
  },
  {
   "cell_type": "code",
   "execution_count": 19,
   "metadata": {},
   "outputs": [
    {
     "name": "stdout",
     "output_type": "stream",
     "text": [
      "+--------+--------------------+\n",
      "|VAERS_ID|SymptomsPermutations|\n",
      "+--------+--------------------+\n",
      "|  916600|[Vomiting, Epiglo...|\n",
      "|  916600|[Epiglottitis, Vo...|\n",
      "|  916601| [Anxiety, Dyspnoea]|\n",
      "|  916601| [Dyspnoea, Anxiety]|\n",
      "|  916602|[Chest discomfort...|\n",
      "+--------+--------------------+\n",
      "only showing top 5 rows\n",
      "\n"
     ]
    }
   ],
   "source": [
    "df_symptoms.select('VAERS_ID','SymptomsPermutations').show(5)"
   ]
  },
  {
   "cell_type": "code",
   "execution_count": 20,
   "metadata": {},
   "outputs": [
    {
     "name": "stdout",
     "output_type": "stream",
     "text": [
      "+--------------------+-----+\n",
      "|SymptomsPermutations|Count|\n",
      "+--------------------+-----+\n",
      "| [Fatigue, Headache]|38537|\n",
      "| [Headache, Fatigue]|38537|\n",
      "|  [Headache, Chills]|36056|\n",
      "|  [Chills, Headache]|36056|\n",
      "|   [Chills, Fatigue]|30023|\n",
      "+--------------------+-----+\n",
      "only showing top 5 rows\n",
      "\n"
     ]
    }
   ],
   "source": [
    "out_df = df_symptoms.groupby('SymptomsPermutations').agg(F.count('VAERS_ID').alias('Count')).orderBy(F.desc('Count'))\n",
    "out_df.show(5)"
   ]
  },
  {
   "cell_type": "markdown",
   "metadata": {},
   "source": [
    "7.8 seconds to do the transformations and then group everything is pretty impressive. Let's see what the equivalent in normal Pandas takes."
   ]
  },
  {
   "cell_type": "code",
   "execution_count": 21,
   "metadata": {},
   "outputs": [
    {
     "ename": "",
     "evalue": "",
     "output_type": "error",
     "traceback": [
      "\u001b[1;31mCannot execute code, session has been disposed. Please try restarting the Kernel."
     ]
    },
    {
     "ename": "",
     "evalue": "",
     "output_type": "error",
     "traceback": [
      "\u001b[1;31mThe Kernel crashed while executing code in the the current cell or a previous cell. Please review the code in the cell(s) to identify a possible cause of the failure. Click <a href='https://aka.ms/vscodeJupyterKernelCrash'>here</a> for more info. View Jupyter <a href='command:jupyter.viewOutput'>log</a> for further details."
     ]
    }
   ],
   "source": [
    "pd_df['SymptomsList'] = pd_df[['SYMPTOM1', 'SYMPTOM2', 'SYMPTOM3', 'SYMPTOM4', 'SYMPTOM5']].values.tolist()\n",
    "pd_df['SymptomsList'] = pd_df['SymptomsList'].apply(lambda x: list(filter(None, x)))\n",
    "pd_df['SymptomsPermutations'] = pd_df['SymptomsList'].apply(lambda x: list(itertools.permutations(x, 2)))\n",
    "pd_df = pd_df.explode('SymptomsPermutations')"
   ]
  }
 ],
 "metadata": {
  "kernelspec": {
   "display_name": "NaturalLanguageProcessing",
   "language": "python",
   "name": "python3"
  },
  "language_info": {
   "codemirror_mode": {
    "name": "ipython",
    "version": 3
   },
   "file_extension": ".py",
   "mimetype": "text/x-python",
   "name": "python",
   "nbconvert_exporter": "python",
   "pygments_lexer": "ipython3",
   "version": "3.10.10"
  }
 },
 "nbformat": 4,
 "nbformat_minor": 2
}
